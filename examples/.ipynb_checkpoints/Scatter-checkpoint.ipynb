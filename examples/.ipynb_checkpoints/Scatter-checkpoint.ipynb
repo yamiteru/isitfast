{
 "cells": [
  {
   "cell_type": "code",
   "execution_count": null,
   "id": "576328c6",
   "metadata": {},
   "outputs": [],
   "source": [
    "import matplotlib.pyplot as plt\n",
    "import json\n",
    "\n",
    "dictionary = json.load(open('test.json', 'r'))\n",
    "\n",
    "xTrue = [row['index'] for row in dictionary if row['ignore'] == True]\n",
    "yTrue = [row['value'] for row in dictionary if row['ignore'] == True]\n",
    "\n",
    "xFalse = [row['index'] for row in dictionary if row['ignore'] == False]\n",
    "yFalse = [row['value'] for row in dictionary if row['ignore'] == False]\n",
    "\n",
    "plt.figure(figsize=(25,15))\n",
    "plt.scatter(xTrue,yTrue,None,'#d9d9d9')\n",
    "plt.scatter(xFalse,yFalse,None,'#000000')\n",
    "plt.show()"
   ]
  },
  {
   "cell_type": "code",
   "execution_count": null,
   "id": "7e94581e",
   "metadata": {},
   "outputs": [],
   "source": []
  },
  {
   "cell_type": "code",
   "execution_count": null,
   "id": "7824c5fc",
   "metadata": {},
   "outputs": [],
   "source": []
  },
  {
   "cell_type": "code",
   "execution_count": null,
   "id": "d7d78913",
   "metadata": {},
   "outputs": [],
   "source": []
  }
 ],
 "metadata": {
  "kernelspec": {
   "display_name": "Python 3 (ipykernel)",
   "language": "python",
   "name": "python3"
  },
  "language_info": {
   "codemirror_mode": {
    "name": "ipython",
    "version": 3
   },
   "file_extension": ".py",
   "mimetype": "text/x-python",
   "name": "python",
   "nbconvert_exporter": "python",
   "pygments_lexer": "ipython3",
   "version": "3.9.15"
  }
 },
 "nbformat": 4,
 "nbformat_minor": 5
}
